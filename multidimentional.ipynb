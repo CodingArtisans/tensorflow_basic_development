{
  "nbformat": 4,
  "nbformat_minor": 0,
  "metadata": {
    "colab": {
      "name": "multidimentional.ipynb",
      "version": "0.3.2",
      "provenance": [],
      "include_colab_link": true
    },
    "kernelspec": {
      "name": "python3",
      "display_name": "Python 3"
    }
  },
  "cells": [
    {
      "cell_type": "markdown",
      "metadata": {
        "id": "view-in-github",
        "colab_type": "text"
      },
      "source": [
        "<a href=\"https://colab.research.google.com/github/houyingshi/tensorflow_basic_development/blob/master/multidimentional.ipynb\" target=\"_parent\"><img src=\"https://colab.research.google.com/assets/colab-badge.svg\" alt=\"Open In Colab\"/></a>"
      ]
    },
    {
      "cell_type": "code",
      "metadata": {
        "id": "05CLgR0sRjGw",
        "colab_type": "code",
        "colab": {}
      },
      "source": [
        "# init a table and fill it zero\n",
        "table = [[0 for i in range(6)] for j in range(6)]\n",
        "print(table)\n",
        "\n",
        "for row_index in range(6):\n",
        "    for clo_index in range(6):\n",
        "        table[row_index][clo_index]=row_index + clo_index + 2\n",
        "print(table)\n",
        "\n",
        "for row in table:\n",
        "    print(row)\n",
        "\n",
        "fq = 13 * [0]\n",
        "for row_index in range(6):\n",
        "    for clo_index in range(6):\n",
        "        fq[table[row_index][clo_index]] += 1\n",
        "\n",
        "print(fq)\n",
        "\n",
        "fq = 13 * [0]\n",
        "for row in table:\n",
        "    for value in row:\n",
        "        fq[value] += 1\n",
        "\n",
        "print(fq)\n",
        "\n",
        "m1 = [ [1, 2, 3, 0], [4, 5, 6, 0], [7, 8, 9, 0] ]\n",
        "m2 = [ [2, 4, 6, 0], [1, 3, 5, 0], [0, -1, -2, 0] ]\n",
        "m3 = [4 * [0] for i in range(3)]\n",
        "for row_index in range(3):\n",
        "    for clo_index in range(4):\n",
        "        m3[row_index][clo_index] = m1[row_index][clo_index] + m2[row_index][clo_index]\n",
        "\n",
        "print(m3)\n",
        "for row in m3:\n",
        "  print(row)\n",
        "\n",
        "\n",
        "\n"
      ],
      "execution_count": 0,
      "outputs": []
    }
  ]
}