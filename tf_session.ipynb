{
  "nbformat": 4,
  "nbformat_minor": 0,
  "metadata": {
    "colab": {
      "name": "tf.session.ipynb",
      "version": "0.3.2",
      "provenance": [],
      "include_colab_link": true
    },
    "kernelspec": {
      "name": "python3",
      "display_name": "Python 3"
    },
    "accelerator": "GPU"
  },
  "cells": [
    {
      "cell_type": "markdown",
      "metadata": {
        "id": "view-in-github",
        "colab_type": "text"
      },
      "source": [
        "<a href=\"https://colab.research.google.com/github/houyingshi/tensorflow_basic_development/blob/master/tf_session.ipynb\" target=\"_parent\"><img src=\"https://colab.research.google.com/assets/colab-badge.svg\" alt=\"Open In Colab\"/></a>"
      ]
    },
    {
      "cell_type": "code",
      "metadata": {
        "id": "AR_gbMM6WiNo",
        "colab_type": "code",
        "colab": {}
      },
      "source": [
        "import tensorflow as tf\n",
        "\n",
        "hello = tf.constant('hello tensorflow')\n",
        "with tf.Session() as session:\n",
        "    print(session.run(hello))\n",
        "\n",
        "\n",
        "a = tf.placeholder(tf.int32)\n",
        "b = tf.placeholder(tf.int32)\n",
        "sum = tf.add(a, b)\n",
        "mul = tf.multiply(a, b)\n",
        "with tf.Session(config= tf.ConfigProto(log_device_placement = True, allow_soft_placement = True)) as session:\n",
        "    print('sum:%i' %session.run(sum, feed_dict={a:1, b:2}))\n",
        "    print('mul: %i' % session.run(mul, feed_dict={a:1, b:2}))\n",
        "    print(session.run([sum, mul], feed_dict={a:1, b:2}))\n",
        "\n",
        "\n",
        "from tensorflow.python.client import device_lib\n",
        "\n",
        "print(device_lib.list_local_devices())\n",
        "\n"
      ],
      "execution_count": 0,
      "outputs": []
    }
  ]
}