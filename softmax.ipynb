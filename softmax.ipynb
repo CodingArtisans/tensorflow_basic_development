{
  "nbformat": 4,
  "nbformat_minor": 0,
  "metadata": {
    "colab": {
      "name": "softmax.ipynb",
      "version": "0.3.2",
      "provenance": [],
      "include_colab_link": true
    },
    "kernelspec": {
      "name": "python3",
      "display_name": "Python 3"
    }
  },
  "cells": [
    {
      "cell_type": "markdown",
      "metadata": {
        "id": "view-in-github",
        "colab_type": "text"
      },
      "source": [
        "<a href=\"https://colab.research.google.com/github/houyingshi/tensorflow_basic_development/blob/master/softmax.ipynb\" target=\"_parent\"><img src=\"https://colab.research.google.com/assets/colab-badge.svg\" alt=\"Open In Colab\"/></a>"
      ]
    },
    {
      "cell_type": "code",
      "metadata": {
        "id": "HSqbiQIK6Bhs",
        "colab_type": "code",
        "colab": {}
      },
      "source": [
        "from tensorflow.examples.tutorials.mnist import input_data\n",
        "import  pylab\n",
        "import tensorflow as tf\n",
        "\n",
        "mnist = input_data.read_data_sets('MNIST_data/', one_hot = True)\n",
        "print('train data set: ' , mnist.train.images)\n",
        "print('train data set shape: ', mnist.train.images.shape)\n",
        "print('test data set shape:', mnist.test.images.shape)\n",
        "print('validation data set shape: ', mnist.validation.images.shape)\n",
        "\n",
        "# im = mnist.train.images[1]\n",
        "# # print(im)\n",
        "# im = im.reshape(-1, 28)\n",
        "# # print(im)\n",
        "# pylab.imshow(im)\n",
        "# pylab.show()\n",
        "\n",
        "tf.reset_default_graph()\n",
        "\n",
        "x = tf.placeholder(tf.float32, [None, 784])\n",
        "y = tf.placeholder(tf.float32, [None, 10])\n",
        "W = tf.Variable(tf.random_normal([784, 10]))\n",
        "b = tf.Variable(tf.zeros([10]))\n",
        "\n",
        "pred = tf.nn.softmax(tf.matmul(x, W) + b)\n",
        "\n",
        "cost = tf.reduce_mean(-tf.reduce_sum(y * tf.log(pred), reduction_indices =1))\n",
        "learning_rate = 0.01\n",
        "optimizer = tf.train.GradientDescentOptimizer(learning_rate).minimize(cost)\n",
        "\n",
        "training_epochs = 25\n",
        "batch_size = 100\n",
        "display_step = 1\n",
        "\n",
        "with tf.Session() as session:\n",
        "    session.run(tf.global_variables_initializer())\n",
        "\n",
        "    for epoch in range(training_epochs):\n",
        "        total_batch = int(mnist.train.num_examples/batch_size)\n",
        "        avg_cost = 0\n",
        "        for i in range(total_batch):\n",
        "            batch_xs , batch_ys = mnist.train.next_batch(batch_size)\n",
        "            _, c = session.run([optimizer, cost], feed_dict={x: batch_xs, y: batch_ys})\n",
        "            avg_cost += c / total_batch\n",
        "\n",
        "        print('epoch:', '%04d' %(epoch + 1), 'cost=', '{:.9f}'.format(avg_cost))\n",
        "\n",
        "    correct_prediction = tf.equal(tf.argmax(pred, 1), tf.argmax(y, 1))\n",
        "    accuracy = tf.reduce_mean(tf.cast(correct_prediction, tf.float32))\n",
        "    print('accuracy:', accuracy.eval({x:mnist.test.images, y:mnist.test.labels}))\n",
        "    print('finished!')\n"
      ],
      "execution_count": 0,
      "outputs": []
    }
  ]
}