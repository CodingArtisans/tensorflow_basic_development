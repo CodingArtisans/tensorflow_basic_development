{
  "nbformat": 4,
  "nbformat_minor": 0,
  "metadata": {
    "colab": {
      "name": "tf.train.monitored_training_session.ipynb",
      "version": "0.3.2",
      "provenance": [],
      "include_colab_link": true
    },
    "kernelspec": {
      "name": "python3",
      "display_name": "Python 3"
    }
  },
  "cells": [
    {
      "cell_type": "markdown",
      "metadata": {
        "id": "view-in-github",
        "colab_type": "text"
      },
      "source": [
        "<a href=\"https://colab.research.google.com/github/houyingshi/tensorflow_basic_development/blob/master/tf_train_monitored_training_session.ipynb\" target=\"_parent\"><img src=\"https://colab.research.google.com/assets/colab-badge.svg\" alt=\"Open In Colab\"/></a>"
      ]
    },
    {
      "cell_type": "code",
      "metadata": {
        "id": "qf6D59H_I3dL",
        "colab_type": "code",
        "colab": {}
      },
      "source": [
        "import tensorflow as tf\n",
        "\n",
        "labels = [\n",
        "    [0,0,1],\n",
        "    [0,1,0]\n",
        "]\n",
        "\n",
        "logits = [\n",
        "    [2,0.5,6],\n",
        "    [0.1,0,3]\n",
        "]\n",
        "\n",
        "logits_scaled = tf.nn.softmax(logits)\n",
        "re_logits_scaled = tf.nn.softmax(logits_scaled)\n",
        "\n",
        "cross_result = tf.nn.softmax_cross_entropy_with_logits(labels=labels, logits = logits)\n",
        "re_cross_result = tf.nn.softmax_cross_entropy_with_logits(labels=labels, logits = re_logits_scaled)\n",
        "direct_cross_result = - tf.reduce_sum(labels * tf.log(logits_scaled), 1)\n",
        "\n",
        "with tf.Session() as session:\n",
        "    print('logits_scaled:', session.run(logits_scaled))\n",
        "    print('re_logits_scaled:', session.run(re_logits_scaled))\n",
        "    print('cross_result:', session.run(cross_result))\n",
        "    print('re_cross_result', session.run(re_cross_result))\n",
        "    print('direct_cross_result:', session.run(direct_cross_result))\n",
        "\n",
        "no_one_hot_labels = [\n",
        "    [0.4,0.1,0.5],\n",
        "    [0.3,0.6,0.1]\n",
        "]\n",
        "\n",
        "no_one_hot_cross_result = tf.nn.softmax_cross_entropy_with_logits(labels=no_one_hot_labels, logits = logits)\n",
        "\n",
        "with tf.Session() as session:\n",
        "    print('no_one_hot_labels:', session.run(no_one_hot_cross_result))\n",
        "\n",
        "sparse_labels = [2, 1]\n",
        "sparse_cross_result = tf.nn.sparse_softmax_cross_entropy_with_logits(labels=sparse_labels, logits=logits)\n",
        "with tf.Session() as session:\n",
        "    print('sparse_cross_result:', session.run(sparse_cross_result))\n",
        "\n",
        "loss = tf.reduce_sum(cross_result)\n",
        "direct_loss = - tf.reduce_sum(labels * tf.log(logits_scaled))\n",
        "with tf.Session() as session:\n",
        "    print('loss:', session.run(loss))\n",
        "    print('direct loss: ' , session.run(direct_loss))\n"
      ],
      "execution_count": 0,
      "outputs": []
    }
  ]
}