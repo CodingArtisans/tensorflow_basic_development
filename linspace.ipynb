{
  "nbformat": 4,
  "nbformat_minor": 0,
  "metadata": {
    "colab": {
      "name": "linspace.ipynb",
      "version": "0.3.2",
      "provenance": []
    },
    "kernelspec": {
      "name": "python3",
      "display_name": "Python 3"
    }
  },
  "cells": [
    {
      "cell_type": "code",
      "metadata": {
        "id": "dRl2gzHsLbDN",
        "colab_type": "code",
        "colab": {
          "base_uri": "https://localhost:8080/",
          "height": 359
        },
        "outputId": "32f7baad-5ec9-46df-eeea-2369c2740230"
      },
      "source": [
        "import numpy as np\n",
        "\n",
        "# -1 as last element, because endpoint is true\n",
        "print(np.linspace(1, -1, 10))\n",
        "\n",
        "#last element is random\n",
        "print(np.linspace(1, -1, 10, endpoint=False))\n",
        "\n",
        "# return step\n",
        "print(np.linspace(1, -1, 10, retstep= True))\n",
        "\n",
        "import matplotlib.pyplot as plt\n",
        "\n",
        "N = 8\n",
        "y = np.zeros(N)\n",
        "x1 = np.linspace(0, 10, N, endpoint= True)\n",
        "x2 = np.linspace(0, 10, N, endpoint= False)\n",
        "plt.plot(x1, y, 'o')\n",
        "plt.plot(x2, y + 0.5, 'o')\n",
        "plt.ylim([-0.5, 1])\n",
        "plt.show()\n",
        "\n"
      ],
      "execution_count": 1,
      "outputs": [
        {
          "output_type": "stream",
          "text": [
            "[ 1.          0.77777778  0.55555556  0.33333333  0.11111111 -0.11111111\n",
            " -0.33333333 -0.55555556 -0.77777778 -1.        ]\n",
            "[ 1.   0.8  0.6  0.4  0.2  0.  -0.2 -0.4 -0.6 -0.8]\n",
            "(array([ 1.        ,  0.77777778,  0.55555556,  0.33333333,  0.11111111,\n",
            "       -0.11111111, -0.33333333, -0.55555556, -0.77777778, -1.        ]), -0.2222222222222222)\n"
          ],
          "name": "stdout"
        },
        {
          "output_type": "display_data",
          "data": {
            "image/png": "[encoded data removed]",
            "text/plain": [
              "<Figure size 432x288 with 1 Axes>"
            ]
          },
          "metadata": {
            "tags": []
          }
        }
      ]
    }
  ]
}