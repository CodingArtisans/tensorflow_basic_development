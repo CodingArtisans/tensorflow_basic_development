{
  "nbformat": 4,
  "nbformat_minor": 0,
  "metadata": {
    "colab": {
      "name": "tf.train.saver.checkpoint.ipynb",
      "version": "0.3.2",
      "provenance": [],
      "include_colab_link": true
    },
    "kernelspec": {
      "name": "python3",
      "display_name": "Python 3"
    }
  },
  "cells": [
    {
      "cell_type": "markdown",
      "metadata": {
        "id": "view-in-github",
        "colab_type": "text"
      },
      "source": [
        "<a href=\"https://colab.research.google.com/github/houyingshi/tensorflow_basic_development/blob/master/tf_train_saver_checkpoint.ipynb\" target=\"_parent\"><img src=\"https://colab.research.google.com/assets/colab-badge.svg\" alt=\"Open In Colab\"/></a>"
      ]
    },
    {
      "cell_type": "code",
      "metadata": {
        "id": "KzZLkrSY2djs",
        "colab_type": "code",
        "colab": {}
      },
      "source": [
        "# -*- coding: utf-8 -*-\n",
        "\"\"\"\n",
        "@author: Yingshi Hou\n",
        "\"\"\"\n",
        "\n",
        "import tensorflow as tf\n",
        "import numpy as np\n",
        "from tensorflow.python.tools.inspect_checkpoint import print_tensors_in_checkpoint_file\n",
        "\n",
        "train_X = np.linspace(-1, 1, 100)\n",
        "train_Y = 2 * train_X + np.random.randn(*train_X.shape) * 0.3  # y=2x，但是加入了噪声\n",
        "\n",
        "\n",
        "X = tf.placeholder(tf.float32)\n",
        "Y = tf.placeholder(tf.float32)\n",
        "W = tf.Variable(tf.random_normal([1]), name=\"weight\")\n",
        "b = tf.Variable(tf.zeros([1]), name=\"bias\")\n",
        "\n",
        "z = tf.multiply(X, W) + b\n",
        "\n",
        "cost = tf.reduce_mean(tf.square(Y - z))\n",
        "learning_rate = 0.01\n",
        "optimizer = tf.train.GradientDescentOptimizer(learning_rate).minimize(cost)  # Gradient descent\n",
        "\n",
        "init = tf.global_variables_initializer()\n",
        "training_epochs = 20\n",
        "display_step = 2\n",
        "\n",
        "saver = tf.train.Saver(max_to_keep = 1)\n",
        "saver_step = 0\n",
        "with tf.Session() as sess:\n",
        "    sess.run(init)\n",
        "\n",
        "    for epoch in range(training_epochs):\n",
        "        for (x, y) in zip(train_X, train_Y):\n",
        "            sess.run(optimizer, feed_dict={X: x, Y: y})\n",
        "\n",
        "        if epoch % display_step == 0:\n",
        "            loss = sess.run(cost, feed_dict={X: train_X, Y: train_Y})\n",
        "            print(\"Epoch:\", epoch + 1, \"cost=\", loss, \"W=\", sess.run(W), \"b=\", sess.run(b))\n",
        "            saver.save(sess, 'liner_regression/model', global_step =epoch)\n",
        "            saver_step=epoch\n",
        "\n",
        "    print(\" Finished!\")\n",
        "    print(\"cost=\", sess.run(cost, feed_dict={X: train_X, Y: train_Y}), \"W=\", sess.run(W), \"b=\", sess.run(b))\n",
        "\n",
        "\n",
        "\n",
        "    print(\"x=0.2，z=\", sess.run(z, feed_dict={X: 0.2}))\n",
        "\n",
        "saver = tf.train.Saver()\n",
        "with tf.Session() as sess:\n",
        "    sess.run(init)\n",
        "    saver.restore(sess, 'liner_regression/model-' + str(saver_step))\n",
        "    print(\"x=0.2，z=\", sess.run(z, feed_dict={X: 0.2}))\n",
        "\n",
        "print_tensors_in_checkpoint_file('liner_regression/model-' + str(saver_step), None, True)"
      ],
      "execution_count": 0,
      "outputs": []
    }
  ]
}