{
  "nbformat": 4,
  "nbformat_minor": 0,
  "metadata": {
    "colab": {
      "name": "pyplot.plot",
      "version": "0.3.2",
      "provenance": [],
      "toc_visible": true,
      "include_colab_link": true
    },
    "kernelspec": {
      "name": "python3",
      "display_name": "Python 3"
    },
    "accelerator": "GPU"
  },
  "cells": [
    {
      "cell_type": "markdown",
      "metadata": {
        "id": "view-in-github",
        "colab_type": "text"
      },
      "source": [
        "<a href=\"https://colab.research.google.com/github/houyingshi/tensorflow_basic_development/blob/master/pyplot_plot.ipynb\" target=\"_parent\"><img src=\"https://colab.research.google.com/assets/colab-badge.svg\" alt=\"Open In Colab\"/></a>"
      ]
    },
    {
      "cell_type": "code",
      "metadata": {
        "id": "hp9mqk2mkzqi",
        "colab_type": "code",
        "colab": {}
      },
      "source": [
        "import matplotlib.pyplot as plt\n",
        "import numpy as np\n",
        "\n",
        "x = np.linspace(0, 10, 10)\n",
        "y = 2 * x\n",
        "# use array as x and y\n",
        "plt.plot(x, y, 'go--', linewidth =2 , markersize = 12)\n",
        "plt.show()\n",
        "\n",
        "obj = {\n",
        "    'x': x,\n",
        "    'y': y\n",
        "}\n",
        "\n",
        "# x and y are from dict object\n",
        "plt.plot('x',  data=obj)\n",
        "plt.show()\n",
        "\n",
        "plt.plot(x, y)\n",
        "plt.plot(x, y + 1)\n",
        "plt.show()\n",
        "\n",
        "plt.plot(x, y, x, y + 1)\n",
        "plt.show()"
      ],
      "execution_count": 0,
      "outputs": []
    }
  ]
}