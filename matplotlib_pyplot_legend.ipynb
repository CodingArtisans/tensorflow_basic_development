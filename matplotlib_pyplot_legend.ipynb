{
  "nbformat": 4,
  "nbformat_minor": 0,
  "metadata": {
    "colab": {
      "name": "matplotlib.pyplot.legend.ipynb",
      "version": "0.3.2",
      "provenance": [],
      "include_colab_link": true
    },
    "kernelspec": {
      "name": "python3",
      "display_name": "Python 3"
    }
  },
  "cells": [
    {
      "cell_type": "markdown",
      "metadata": {
        "id": "view-in-github",
        "colab_type": "text"
      },
      "source": [
        "<a href=\"https://colab.research.google.com/github/houyingshi/tensorflow_basic_development/blob/master/matplotlib_pyplot_legend.ipynb\" target=\"_parent\"><img src=\"https://colab.research.google.com/assets/colab-badge.svg\" alt=\"Open In Colab\"/></a>"
      ]
    },
    {
      "cell_type": "code",
      "metadata": {
        "id": "b7yEUdMoqWrw",
        "colab_type": "code",
        "colab": {}
      },
      "source": [
        "import numpy as np\n",
        "import matplotlib.pyplot as plt\n",
        "\n",
        "x = np.linspace(1, 5, 10)\n",
        "y = 2 * x\n",
        "plt.plot(x, y , label='legend1')\n",
        "plt.legend()\n",
        "plt.show()\n",
        "\n",
        "plt.plot(x, y, x, y + 5)\n",
        "plt.legend(['legend1', 'legend2'])\n",
        "plt.show()\n",
        "\n",
        "line1, = plt.plot(x, y)\n",
        "line2, = plt.plot(x, y + 5)\n",
        "line3, = plt.plot(x, y + 10)\n",
        "plt.legend((line1, line2, line3), ('legend1', 'legend2', 'legend3'))\n",
        "plt.show()"
      ],
      "execution_count": 0,
      "outputs": []
    }
  ]
}