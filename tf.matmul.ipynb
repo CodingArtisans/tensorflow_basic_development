{
  "nbformat": 4,
  "nbformat_minor": 0,
  "metadata": {
    "colab": {
      "name": "tf.matmul.ipynb",
      "version": "0.3.2",
      "provenance": [],
      "include_colab_link": true
    },
    "kernelspec": {
      "name": "python3",
      "display_name": "Python 3"
    }
  },
  "cells": [
    {
      "cell_type": "markdown",
      "metadata": {
        "id": "view-in-github",
        "colab_type": "text"
      },
      "source": [
        "<a href=\"https://colab.research.google.com/github/houyingshi/tensorflow_basic_development/blob/master/tf.matmul.ipynb\" target=\"_parent\"><img src=\"https://colab.research.google.com/assets/colab-badge.svg\" alt=\"Open In Colab\"/></a>"
      ]
    },
    {
      "cell_type": "code",
      "metadata": {
        "id": "_83SqUyyZmIb",
        "colab_type": "code",
        "colab": {}
      },
      "source": [
        "import tensorflow as tf\n",
        "import numpy as np\n",
        "\n",
        "a = tf.constant([1, 2, 3, 4, 5, 6], shape=[2, 3])\n",
        "b = tf.constant([7, 8, 9, 10, 11, 12], shape=[3, 2])\n",
        "c = tf.matmul(a, b)\n",
        "with tf.Session() as sess:\n",
        "    print(sess.run(c))\n",
        "\n",
        "a = tf.constant(np.arange(1, 13, dtype= np.int32), shape=[2, 2, 3])\n",
        "b = tf.constant(np.arange(13, 25, dtype= np.int32), shape=[2, 3, 2])\n",
        "c = tf.matmul(a, b)\n",
        "with tf.Session() as sess:\n",
        "    print(sess.run(c))\n",
        "\n",
        "print(a @ b)"
      ],
      "execution_count": 0,
      "outputs": []
    }
  ]
}