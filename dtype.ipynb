{
  "nbformat": 4,
  "nbformat_minor": 0,
  "metadata": {
    "colab": {
      "name": "dtype.ipynb",
      "version": "0.3.2",
      "provenance": [],
      "include_colab_link": true
    },
    "kernelspec": {
      "name": "python3",
      "display_name": "Python 3"
    }
  },
  "cells": [
    {
      "cell_type": "markdown",
      "metadata": {
        "id": "view-in-github",
        "colab_type": "text"
      },
      "source": [
        "<a href=\"https://colab.research.google.com/github/CodingArtisans/tensorflow_basic_development/blob/master/dtype.ipynb\" target=\"_parent\"><img src=\"https://colab.research.google.com/assets/colab-badge.svg\" alt=\"Open In Colab\"/></a>"
      ]
    },
    {
      "cell_type": "code",
      "metadata": {
        "id": "dRl2gzHsLbDN",
        "colab_type": "code",
        "colab": {}
      },
      "source": [
        "import numpy as np\n",
        "\n",
        "# scalar type\n",
        "int_type = np.dtype(np.int32)\n",
        "print(int_type)\n",
        "print(int_type.byteorder)\n",
        "print(int_type.itemsize)\n",
        "print(int_type.name)\n",
        "print()\n",
        "\n",
        "# array\n",
        "arr = np.array([1])\n",
        "print(type(arr))\n",
        "print(arr.dtype)\n",
        "print()\n",
        "\n",
        "#structured  array\n",
        "dt = np.dtype([('name', np.unicode, 16), ('grades', np.float64, (2, ))])\n",
        "print(dt)\n",
        "print(dt['name'])\n",
        "print(dt['grades'])\n",
        "\n",
        "# new structured array instance\n",
        "students = np.array([('John', (8, 9)), ('Davi', (5, 4))],  dtype=dt)\n",
        "print(students[1])\n",
        "print('the grades of john are: ' , students[1]['grades'])\n",
        "print('names are : ' ,  students['name'])\n",
        "print('grades are: ', students['grades'])\n",
        "\n",
        "\n",
        "\n",
        "\n"
      ],
      "execution_count": 0,
      "outputs": []
    }
  ]
}