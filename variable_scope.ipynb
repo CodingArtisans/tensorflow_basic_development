{
  "nbformat": 4,
  "nbformat_minor": 0,
  "metadata": {
    "colab": {
      "name": "variable_scope.ipynb",
      "version": "0.3.2",
      "provenance": [],
      "include_colab_link": true
    },
    "kernelspec": {
      "name": "python3",
      "display_name": "Python 3"
    },
    "accelerator": "GPU"
  },
  "cells": [
    {
      "cell_type": "markdown",
      "metadata": {
        "id": "view-in-github",
        "colab_type": "text"
      },
      "source": [
        "<a href=\"https://colab.research.google.com/github/houyingshi/tensorflow_basic_development/blob/master/variable_scope.ipynb\" target=\"_parent\"><img src=\"https://colab.research.google.com/assets/colab-badge.svg\" alt=\"Open In Colab\"/></a>"
      ]
    },
    {
      "cell_type": "code",
      "metadata": {
        "id": "kcpfgF0DiEAw",
        "colab_type": "code",
        "colab": {
          "base_uri": "https://localhost:8080/",
          "height": 433
        },
        "outputId": "73c4c5b1-d420-4ef7-8e77-8d2ecf437254"
      },
      "source": [
        "import tensorflow as tf\n",
        "\n",
        "# 作用域共享变量\n",
        "with tf.variable_scope('scope'):\n",
        "    var1 = tf.get_variable('first', shape=[2], dtype=tf.float32)\n",
        "    print(var1.name)\n",
        "    with tf.variable_scope('scope1'):\n",
        "        var1 = tf.get_variable('first', shape=[2], dtype=tf.float32)\n",
        "        print(var1.name)\n",
        "\n",
        "with tf.variable_scope('scope2'):\n",
        "    var1 = tf.get_variable('first', shape=[2], dtype=tf.float32)\n",
        "    print(var1.name)\n",
        "\n",
        "with tf.variable_scope('scope', reuse=True):\n",
        "    var1 = tf.get_variable('first', shape=[2], dtype=tf.float32)\n",
        "    print(var1.name)\n",
        "    with tf.variable_scope('scope1', reuse=True):\n",
        "        var1 = tf.get_variable('first', shape=[2], dtype=tf.float32)\n",
        "        print(var1.name)\n",
        "\n",
        "with tf.variable_scope('scope2', reuse=True):\n",
        "    var1 = tf.get_variable('first', shape=[2], dtype=tf.float32)\n",
        "    print(var1.name)\n",
        "\n",
        "# 初始化共享变量\n",
        "with tf.variable_scope('test1', initializer= tf.constant_initializer(1)):\n",
        "    var1 = tf.get_variable('var1', shape=[2], dtype= tf.int32)\n",
        "    with tf.variable_scope('test2'):\n",
        "        var2 = tf.get_variable('var1', shape=[2], dtype=tf.int32)\n",
        "        var3 = tf.get_variable('var3', shape=[2], dtype=tf.int32, initializer=tf.constant_initializer(3))\n",
        "\n",
        "        with tf.Session() as session:\n",
        "            session.run(tf.global_variables_initializer())\n",
        "            print('var1 = ', var1.eval())\n",
        "            print('var2 = ', var2.eval())\n",
        "            print('var3 = ', var3.eval())\n",
        "\n",
        "\n",
        "# 作用域受限与操作符受限\n",
        "with tf.variable_scope('scope1') as sp:\n",
        "    var1 = tf.get_variable('v', shape=[1])\n",
        "\n",
        "print('sp.name=', sp.name)\n",
        "print('var1.name=', var1.name)\n",
        "\n",
        "with tf.variable_scope('scope2'):\n",
        "    var2 = tf.get_variable('v', shape=[1])\n",
        "    with tf.variable_scope(sp) as sp1:\n",
        "        var3 = tf.get_variable('v3',[1])\n",
        "\n",
        "        with tf.variable_scope(''):\n",
        "            var4 = tf.get_variable('v4', shape=[1])\n",
        "\n",
        "print('sp1.name=', sp1.name)\n",
        "print('var2.name=', var2.name)\n",
        "print('var3.name=', var3.name)\n",
        "print('var4.name=' , var4.name)\n",
        "\n",
        "with tf.variable_scope('scope'):\n",
        "    with tf.name_scope('bar'):\n",
        "        v = tf.get_variable('v', [1])\n",
        "        x = 1.0 + v\n",
        "        with tf.name_scope(''):\n",
        "            y = 1.0 + v\n",
        "\n",
        "print('v.name = ', v.name)\n",
        "print('x.op.name=' , x.op.name)\n",
        "print('y.op.name=', y.op.name)\n",
        "\n",
        "\n"
      ],
      "execution_count": 1,
      "outputs": [
        {
          "output_type": "stream",
          "text": [
            "WARNING: Logging before flag parsing goes to stderr.\n",
            "W0629 09:25:11.050745 140134784124800 deprecation.py:506] From /usr/local/lib/python3.6/dist-packages/tensorflow/python/ops/init_ops.py:1251: calling VarianceScaling.__init__ (from tensorflow.python.ops.init_ops) with dtype is deprecated and will be removed in a future version.\n",
            "Instructions for updating:\n",
            "Call initializer instance with the dtype argument instead of passing it to the constructor\n"
          ],
          "name": "stderr"
        },
        {
          "output_type": "stream",
          "text": [
            "scope/first:0\n",
            "scope/scope1/first:0\n",
            "scope2/first:0\n",
            "scope/first:0\n",
            "scope/scope1/first:0\n",
            "scope2/first:0\n",
            "var1 =  [1 1]\n",
            "var2 =  [1 1]\n",
            "var3 =  [3 3]\n",
            "sp.name= scope1\n",
            "var1.name= scope1/v:0\n",
            "sp1.name= scope1\n",
            "var2.name= scope2/v:0\n",
            "var3.name= scope1/v3:0\n",
            "var4.name= scope1//v4:0\n",
            "v.name =  scope/v:0\n",
            "x.op.name= scope_2/bar/add\n",
            "y.op.name= add\n"
          ],
          "name": "stdout"
        }
      ]
    }
  ]
}