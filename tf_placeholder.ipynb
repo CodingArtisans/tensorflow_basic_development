{
  "nbformat": 4,
  "nbformat_minor": 0,
  "metadata": {
    "colab": {
      "name": "tf.placeholder.ipynb",
      "version": "0.3.2",
      "provenance": [],
      "include_colab_link": true
    },
    "kernelspec": {
      "name": "python3",
      "display_name": "Python 3"
    }
  },
  "cells": [
    {
      "cell_type": "markdown",
      "metadata": {
        "id": "view-in-github",
        "colab_type": "text"
      },
      "source": [
        "<a href=\"https://colab.research.google.com/github/houyingshi/tensorflow_basic_development/blob/master/tf_placeholder.ipynb\" target=\"_parent\"><img src=\"https://colab.research.google.com/assets/colab-badge.svg\" alt=\"Open In Colab\"/></a>"
      ]
    },
    {
      "cell_type": "code",
      "metadata": {
        "id": "Qls48DQy0sBW",
        "colab_type": "code",
        "colab": {}
      },
      "source": [
        "import tensorflow as tf\n",
        "import numpy as np\n",
        "\n",
        "print(tf.__version__)\n",
        "x = tf.placeholder(tf.float32, shape=(1024, 1024))\n",
        "y = tf.matmul(x, x)\n",
        "\n",
        "with tf.Session() as sess:\n",
        "    data = np.random.rand(1024, 1024)\n",
        "    print(sess.run(y, feed_dict ={x: data}))"
      ],
      "execution_count": 0,
      "outputs": []
    }
  ]
}